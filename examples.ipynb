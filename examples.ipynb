{
 "cells": [
  {
   "cell_type": "markdown",
   "id": "d0b334c8-2a3e-47b6-aecc-a3391f21fc70",
   "metadata": {},
   "source": [
    "# mutantkit"
   ]
  },
  {
   "cell_type": "markdown",
   "id": "c63cac57-49a7-4136-8bc8-8756b642b756",
   "metadata": {},
   "source": [
    "## Protein"
   ]
  },
  {
   "cell_type": "code",
   "execution_count": 1,
   "id": "2799823b-4be8-415f-b788-17672576534d",
   "metadata": {
    "execution": {
     "iopub.execute_input": "2023-10-11T08:54:13.730000Z",
     "iopub.status.busy": "2023-10-11T08:54:13.729768Z",
     "iopub.status.idle": "2023-10-11T08:54:48.292366Z",
     "shell.execute_reply": "2023-10-11T08:54:48.291783Z",
     "shell.execute_reply.started": "2023-10-11T08:54:13.729940Z"
    }
   },
   "outputs": [],
   "source": [
    "from mutantkit import protein as mkp"
   ]
  },
  {
   "cell_type": "markdown",
   "id": "6cc01ba3-2d67-4392-9e15-4a3c73aaf7fa",
   "metadata": {},
   "source": [
    "### Retrieve SEQRES and ATOM sequences"
   ]
  },
  {
   "cell_type": "code",
   "execution_count": 13,
   "id": "4faf7a15-b03a-4f26-9ce8-f70c178de098",
   "metadata": {
    "execution": {
     "iopub.execute_input": "2023-10-11T09:40:28.875624Z",
     "iopub.status.busy": "2023-10-11T09:40:28.875432Z",
     "iopub.status.idle": "2023-10-11T09:40:28.907831Z",
     "shell.execute_reply": "2023-10-11T09:40:28.907423Z",
     "shell.execute_reply.started": "2023-10-11T09:40:28.875605Z"
    },
    "tags": []
   },
   "outputs": [
    {
     "name": "stdout",
     "output_type": "stream",
     "text": [
      "GPRSVASSKLWMLEFSAFLEQQQDPDTYNKHLFVHIGQSSPSYSDPYLEAVDIRQIYDKFPEKKGGLKDLFERGPSNAFFLVKFWADLNTNIEDEGSSFYGVSSQYESPENMIITCSTKVCSFGKQVVEKVETEYARYENGHYSYRIHRSPLCEYMINFIHKLKHLPEKYMMNSVLENFTILQVVTNRDTQETLLCIAYVFEVSASEHGAQHHIYRLVKE\n",
      "  RSVASSKLWMLEFSAFLEQQQDPDTYNKHLFVHIGXXXXXXXXXXLEAVDIRQIYDKFPEKKGGLKDLFERGPSNAFFLVKFWADLNTNXXXXGSSFYGVSSQYESPENMIITCSTKVCSFGKQVVEKVETEYARYENGHYSYRIHRSPLCEYMINFIHKLKHLPEKYMMNSVLENFTILQVVTNRDTQETLLCIAYVFEVSASEHGAQHHIYRLVKE\n"
     ]
    }
   ],
   "source": [
    "# by default if pdb is absent in local database it will be downloaded from PDB website\n",
    "seqres, atom = mkp.getSeq('5oaq', 'A')\n",
    "print(seqres)\n",
    "print('  ' + atom)"
   ]
  },
  {
   "cell_type": "code",
   "execution_count": 10,
   "id": "1ebd510d-9fcc-4e9e-b236-1c831bd30cb8",
   "metadata": {
    "execution": {
     "iopub.execute_input": "2023-10-11T09:13:41.641262Z",
     "iopub.status.busy": "2023-10-11T09:13:41.641070Z",
     "iopub.status.idle": "2023-10-11T09:13:41.644288Z",
     "shell.execute_reply": "2023-10-11T09:13:41.643877Z",
     "shell.execute_reply.started": "2023-10-11T09:13:41.641242Z"
    },
    "tags": []
   },
   "outputs": [
    {
     "data": {
      "text/plain": [
       "True"
      ]
     },
     "execution_count": 10,
     "metadata": {},
     "output_type": "execute_result"
    }
   ],
   "source": [
    "# check missing residues\n",
    "'X' in atom"
   ]
  },
  {
   "cell_type": "code",
   "execution_count": 8,
   "id": "f9df2d6d-5b69-45b9-a9df-43c7093384e3",
   "metadata": {
    "execution": {
     "iopub.execute_input": "2023-10-11T09:10:42.986777Z",
     "iopub.status.busy": "2023-10-11T09:10:42.986565Z",
     "iopub.status.idle": "2023-10-11T09:12:59.942959Z",
     "shell.execute_reply": "2023-10-11T09:12:59.942450Z",
     "shell.execute_reply.started": "2023-10-11T09:10:42.986756Z"
    },
    "tags": []
   },
   "outputs": [
    {
     "data": {
      "text/plain": [
       "(None, 'IHLPRFSLKQGMIPTRYVMPWKENMKFRNVNLQQAEACGIYAGPLEDSLFWGYSERLCHGED')"
      ]
     },
     "execution_count": 8,
     "metadata": {},
     "output_type": "execute_result"
    }
   ],
   "source": [
    "# pdb file format is used by default. If not available, set cif\n",
    "# takes time\n",
    "# почему он не смог извлечь seqres, я хз\n",
    "mkp.getSeq('8I7R', 'M1', file_format='cif')"
   ]
  }
 ],
 "metadata": {
  "kernelspec": {
   "display_name": "Python 3",
   "language": "python",
   "name": "python3"
  },
  "language_info": {
   "codemirror_mode": {
    "name": "ipython",
    "version": 3
   },
   "file_extension": ".py",
   "mimetype": "text/x-python",
   "name": "python",
   "nbconvert_exporter": "python",
   "pygments_lexer": "ipython3",
   "version": "3.8.8"
  }
 },
 "nbformat": 4,
 "nbformat_minor": 5
}
